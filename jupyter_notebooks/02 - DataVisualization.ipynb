{
 "cells": [
  {
   "cell_type": "markdown",
   "metadata": {},
   "source": [
    "# **Data Visualization**"
   ]
  },
  {
   "cell_type": "markdown",
   "metadata": {},
   "source": [
    "## Objectives\n",
    "* Set the image shape.\n",
    "* Analyze the average and variability of images.\n",
    "* Compare differences between average images.\n",
    "* Create image montages.\n",
    "* Plot the number of images in the training, validation, and test sets."
   ]
  },
  {
   "cell_type": "markdown",
   "metadata": {},
   "source": [
    "## Inputs\n",
    "Images are taken from the test, train, validation folders and their subfolders."
   ]
  },
  {
   "cell_type": "markdown",
   "metadata": {},
   "source": [
    "```\n",
    "└───inputs/ \n",
    "    └───potato_disease_dataset/ \n",
    "        ├───test/\n",
    "        │   ├───healthy\n",
    "        │   ├───early_blight\n",
    "        │   └───late_blight                   \n",
    "        ├───train/\n",
    "        │   ├───healthy\n",
    "        │   ├───early_blight\n",
    "        │   └───late_blight          \n",
    "        └───validation/\n",
    "            ├───healthy\n",
    "            ├───early_blight\n",
    "            └───late_blight               \n",
    "```"
   ]
  },
  {
   "cell_type": "markdown",
   "metadata": {},
   "source": [
    "## Outputs\n",
    "- Image shape embeded in pickle file.\n",
    "- Mean and variability of images per label plot.\n",
    "- Comparison of average images.\n",
    "- An image montage.\n",
    "- Number of images in train, validation, and test set plotted."
   ]
  },
  {
   "cell_type": "markdown",
   "metadata": {},
   "source": [
    "---"
   ]
  }
 ],
 "metadata": {
  "language_info": {
   "name": "python"
  }
 },
 "nbformat": 4,
 "nbformat_minor": 2
}
